{
  "nbformat": 4,
  "nbformat_minor": 0,
  "metadata": {
    "colab": {
      "provenance": []
    },
    "kernelspec": {
      "name": "python3",
      "display_name": "Python 3"
    },
    "language_info": {
      "name": "python"
    }
  },
  "cells": [
    {
      "cell_type": "code",
      "execution_count": 1,
      "metadata": {
        "id": "Q2sgJGTIwUAu"
      },
      "outputs": [],
      "source": [
        "import pandas as pd\n",
        "from sklearn.model_selection import train_test_split\n",
        "from tensorflow.keras.preprocessing.text import Tokenizer\n",
        "from tensorflow.keras.preprocessing.sequence import pad_sequences\n",
        "import tensorflow as tf\n",
        "import matplotlib.pyplot as plt\n",
        "import nltk\n",
        "from nltk.corpus import stopwords\n",
        "from nltk.tokenize import word_tokenize\n",
        "import numpy as np\n"
      ]
    },
    {
      "cell_type": "code",
      "source": [
        "nltk.download(['stopwords', 'punkt'])"
      ],
      "metadata": {
        "colab": {
          "base_uri": "https://localhost:8080/"
        },
        "id": "USsVsseSvOoW",
        "outputId": "d9d8b2c0-dbef-456d-d28f-bc84f0c2688f"
      },
      "execution_count": 2,
      "outputs": [
        {
          "output_type": "stream",
          "name": "stderr",
          "text": [
            "[nltk_data] Downloading package stopwords to /root/nltk_data...\n",
            "[nltk_data]   Package stopwords is already up-to-date!\n",
            "[nltk_data] Downloading package punkt to /root/nltk_data...\n",
            "[nltk_data]   Package punkt is already up-to-date!\n"
          ]
        },
        {
          "output_type": "execute_result",
          "data": {
            "text/plain": [
              "True"
            ]
          },
          "metadata": {},
          "execution_count": 2
        }
      ]
    },
    {
      "cell_type": "code",
      "source": [
        "df = pd.read_csv('sample_data/clickbait_data.csv', sep=\";\")\n",
        "df.head()"
      ],
      "metadata": {
        "id": "bAG8XcoGwh7U",
        "colab": {
          "base_uri": "https://localhost:8080/",
          "height": 206
        },
        "outputId": "f92752fe-7e94-4be8-bf15-1787e7294f27"
      },
      "execution_count": 3,
      "outputs": [
        {
          "output_type": "execute_result",
          "data": {
            "text/plain": [
              "                                  headline,clickbait Unnamed: 1\n",
              "0                               Should I Get Bings,1        NaN\n",
              "1    Which TV Female Friend Group Do You Belong In,1        NaN\n",
              "2  The New \"Star Wars: The Force Awakens\" Trailer...        NaN\n",
              "3  This Vine Of New York On \"Celebrity Big Brothe...        NaN\n",
              "4  A Couple Did A Stunning Photo Shoot With Their...        NaN"
            ],
            "text/html": [
              "\n",
              "  <div id=\"df-b992b190-35bf-42e2-a4bd-2c21062d3e31\">\n",
              "    <div class=\"colab-df-container\">\n",
              "      <div>\n",
              "<style scoped>\n",
              "    .dataframe tbody tr th:only-of-type {\n",
              "        vertical-align: middle;\n",
              "    }\n",
              "\n",
              "    .dataframe tbody tr th {\n",
              "        vertical-align: top;\n",
              "    }\n",
              "\n",
              "    .dataframe thead th {\n",
              "        text-align: right;\n",
              "    }\n",
              "</style>\n",
              "<table border=\"1\" class=\"dataframe\">\n",
              "  <thead>\n",
              "    <tr style=\"text-align: right;\">\n",
              "      <th></th>\n",
              "      <th>headline,clickbait</th>\n",
              "      <th>Unnamed: 1</th>\n",
              "    </tr>\n",
              "  </thead>\n",
              "  <tbody>\n",
              "    <tr>\n",
              "      <th>0</th>\n",
              "      <td>Should I Get Bings,1</td>\n",
              "      <td>NaN</td>\n",
              "    </tr>\n",
              "    <tr>\n",
              "      <th>1</th>\n",
              "      <td>Which TV Female Friend Group Do You Belong In,1</td>\n",
              "      <td>NaN</td>\n",
              "    </tr>\n",
              "    <tr>\n",
              "      <th>2</th>\n",
              "      <td>The New \"Star Wars: The Force Awakens\" Trailer...</td>\n",
              "      <td>NaN</td>\n",
              "    </tr>\n",
              "    <tr>\n",
              "      <th>3</th>\n",
              "      <td>This Vine Of New York On \"Celebrity Big Brothe...</td>\n",
              "      <td>NaN</td>\n",
              "    </tr>\n",
              "    <tr>\n",
              "      <th>4</th>\n",
              "      <td>A Couple Did A Stunning Photo Shoot With Their...</td>\n",
              "      <td>NaN</td>\n",
              "    </tr>\n",
              "  </tbody>\n",
              "</table>\n",
              "</div>\n",
              "      <button class=\"colab-df-convert\" onclick=\"convertToInteractive('df-b992b190-35bf-42e2-a4bd-2c21062d3e31')\"\n",
              "              title=\"Convert this dataframe to an interactive table.\"\n",
              "              style=\"display:none;\">\n",
              "        \n",
              "  <svg xmlns=\"http://www.w3.org/2000/svg\" height=\"24px\"viewBox=\"0 0 24 24\"\n",
              "       width=\"24px\">\n",
              "    <path d=\"M0 0h24v24H0V0z\" fill=\"none\"/>\n",
              "    <path d=\"M18.56 5.44l.94 2.06.94-2.06 2.06-.94-2.06-.94-.94-2.06-.94 2.06-2.06.94zm-11 1L8.5 8.5l.94-2.06 2.06-.94-2.06-.94L8.5 2.5l-.94 2.06-2.06.94zm10 10l.94 2.06.94-2.06 2.06-.94-2.06-.94-.94-2.06-.94 2.06-2.06.94z\"/><path d=\"M17.41 7.96l-1.37-1.37c-.4-.4-.92-.59-1.43-.59-.52 0-1.04.2-1.43.59L10.3 9.45l-7.72 7.72c-.78.78-.78 2.05 0 2.83L4 21.41c.39.39.9.59 1.41.59.51 0 1.02-.2 1.41-.59l7.78-7.78 2.81-2.81c.8-.78.8-2.07 0-2.86zM5.41 20L4 18.59l7.72-7.72 1.47 1.35L5.41 20z\"/>\n",
              "  </svg>\n",
              "      </button>\n",
              "      \n",
              "  <style>\n",
              "    .colab-df-container {\n",
              "      display:flex;\n",
              "      flex-wrap:wrap;\n",
              "      gap: 12px;\n",
              "    }\n",
              "\n",
              "    .colab-df-convert {\n",
              "      background-color: #E8F0FE;\n",
              "      border: none;\n",
              "      border-radius: 50%;\n",
              "      cursor: pointer;\n",
              "      display: none;\n",
              "      fill: #1967D2;\n",
              "      height: 32px;\n",
              "      padding: 0 0 0 0;\n",
              "      width: 32px;\n",
              "    }\n",
              "\n",
              "    .colab-df-convert:hover {\n",
              "      background-color: #E2EBFA;\n",
              "      box-shadow: 0px 1px 2px rgba(60, 64, 67, 0.3), 0px 1px 3px 1px rgba(60, 64, 67, 0.15);\n",
              "      fill: #174EA6;\n",
              "    }\n",
              "\n",
              "    [theme=dark] .colab-df-convert {\n",
              "      background-color: #3B4455;\n",
              "      fill: #D2E3FC;\n",
              "    }\n",
              "\n",
              "    [theme=dark] .colab-df-convert:hover {\n",
              "      background-color: #434B5C;\n",
              "      box-shadow: 0px 1px 3px 1px rgba(0, 0, 0, 0.15);\n",
              "      filter: drop-shadow(0px 1px 2px rgba(0, 0, 0, 0.3));\n",
              "      fill: #FFFFFF;\n",
              "    }\n",
              "  </style>\n",
              "\n",
              "      <script>\n",
              "        const buttonEl =\n",
              "          document.querySelector('#df-b992b190-35bf-42e2-a4bd-2c21062d3e31 button.colab-df-convert');\n",
              "        buttonEl.style.display =\n",
              "          google.colab.kernel.accessAllowed ? 'block' : 'none';\n",
              "\n",
              "        async function convertToInteractive(key) {\n",
              "          const element = document.querySelector('#df-b992b190-35bf-42e2-a4bd-2c21062d3e31');\n",
              "          const dataTable =\n",
              "            await google.colab.kernel.invokeFunction('convertToInteractive',\n",
              "                                                     [key], {});\n",
              "          if (!dataTable) return;\n",
              "\n",
              "          const docLinkHtml = 'Like what you see? Visit the ' +\n",
              "            '<a target=\"_blank\" href=https://colab.research.google.com/notebooks/data_table.ipynb>data table notebook</a>'\n",
              "            + ' to learn more about interactive tables.';\n",
              "          element.innerHTML = '';\n",
              "          dataTable['output_type'] = 'display_data';\n",
              "          await google.colab.output.renderOutput(dataTable, element);\n",
              "          const docLink = document.createElement('div');\n",
              "          docLink.innerHTML = docLinkHtml;\n",
              "          element.appendChild(docLink);\n",
              "        }\n",
              "      </script>\n",
              "    </div>\n",
              "  </div>\n",
              "  "
            ]
          },
          "metadata": {},
          "execution_count": 3
        }
      ]
    },
    {
      "cell_type": "code",
      "source": [
        "new_data = []\n",
        "for i in df[\"headline,clickbait\"].values:\n",
        "  if i[-1] == \"1\" or i[-1] == \"0\":\n",
        "    new_data.append(i)"
      ],
      "metadata": {
        "id": "AYZoI_CcxbQf"
      },
      "execution_count": 4,
      "outputs": []
    },
    {
      "cell_type": "code",
      "source": [
        "headline = [i[0: len(i)-2] for i in new_data]\n",
        "label = [int(i[-1]) for i in new_data]\n",
        "label = np.array(label)"
      ],
      "metadata": {
        "id": "3d3oqwty5dxe"
      },
      "execution_count": 5,
      "outputs": []
    },
    {
      "cell_type": "code",
      "source": [
        "Xlatih, Xtest, ylatih, ytest = train_test_split(headline, label, test_size=0.2)"
      ],
      "metadata": {
        "id": "hDJHfhIP2LkF"
      },
      "execution_count": 6,
      "outputs": []
    },
    {
      "cell_type": "code",
      "source": [
        "stop_words = set(stopwords.words(\"english\"))\n",
        "judul_latih, judul_test = [],[]\n",
        "data = [judul_latih, judul_test]\n",
        "for i,j in enumerate([Xlatih, Xtest]):\n",
        "  for x in range(len(j)):\n",
        "    kata = \"\"\n",
        "    word_token = word_tokenize(j[x])\n",
        "    for w in word_token:\n",
        "      if w.casefold() not in stop_words:\n",
        "        kata += w.casefold()+\" \"\n",
        "    data[i].append(kata.strip())"
      ],
      "metadata": {
        "id": "qBj0gW4Z5JhF"
      },
      "execution_count": 7,
      "outputs": []
    },
    {
      "cell_type": "code",
      "source": [
        "tk = Tokenizer(num_words=20736, oov_token='<OOV>')\n",
        "tk.fit_on_texts(judul_latih)\n",
        "\n",
        "\n",
        "sekuens_latih = tk.texts_to_sequences(judul_latih)\n",
        "sekuens_test = tk.texts_to_sequences(judul_test)\n",
        "\n",
        "pad_latih = pad_sequences(sekuens_latih,maxlen=20,padding='post',truncating='post')\n",
        "pad_test = pad_sequences(sekuens_test,maxlen=20,padding='post',truncating='post')\n",
        "\n",
        "\n"
      ],
      "metadata": {
        "id": "G20gj4mq3APL"
      },
      "execution_count": 8,
      "outputs": []
    },
    {
      "cell_type": "code",
      "source": [
        "model = tf.keras.Sequential([\n",
        "    tf.keras.layers.Embedding(20736, 16, input_length=20),\n",
        "    tf.keras.layers.LSTM(64),\n",
        "    tf.keras.layers.Dense(50, activation=\"relu\"),\n",
        "    tf.keras.layers.Dense(40, activation='relu'),\n",
        "    tf.keras.layers.Dense(20, activation='relu'),\n",
        "    tf.keras.layers.Dense(1, activation='sigmoid')\n",
        "])\n",
        "model.compile(loss='binary_crossentropy',metrics=['accuracy'], optimizer = tf.keras.optimizers.Adam(learning_rate=3e-4))"
      ],
      "metadata": {
        "id": "KFAfFMUR5bi5"
      },
      "execution_count": 9,
      "outputs": []
    },
    {
      "cell_type": "code",
      "source": [
        "class Mycallback(tf.keras.callbacks.Callback):\n",
        "  def on_epoch_end(self, epoch, logs={}):\n",
        "    if(logs.get('accuracy')>0.9 and logs.get('val_accuracy')>0.9):\n",
        "      print('\\nAkurasi telah mencapai > 80%')\n",
        "      self.model.stop_training = True\n",
        "callbacks = Mycallback()"
      ],
      "metadata": {
        "id": "VyKiF1Bh7SSG"
      },
      "execution_count": 10,
      "outputs": []
    },
    {
      "cell_type": "code",
      "source": [
        "hist = model.fit(pad_latih, ylatih, \n",
        "                    epochs=100, \n",
        "                    validation_data=(pad_test, ytest), \n",
        "                    verbose=2, \n",
        "                    callbacks=[callbacks], \n",
        "                    steps_per_epoch=25)"
      ],
      "metadata": {
        "colab": {
          "base_uri": "https://localhost:8080/"
        },
        "id": "wqO7J4Oe7fDv",
        "outputId": "e53ec4a7-d801-43d2-d837-a922fee6ec70"
      },
      "execution_count": 11,
      "outputs": [
        {
          "output_type": "stream",
          "name": "stdout",
          "text": [
            "Epoch 1/100\n",
            "25/25 - 5s - loss: 0.6932 - accuracy: 0.4982 - val_loss: 0.6932 - val_accuracy: 0.4991 - 5s/epoch - 205ms/step\n",
            "Epoch 2/100\n",
            "25/25 - 3s - loss: 0.6931 - accuracy: 0.5038 - val_loss: 0.6931 - val_accuracy: 0.4991 - 3s/epoch - 122ms/step\n",
            "Epoch 3/100\n",
            "25/25 - 3s - loss: 0.6925 - accuracy: 0.5205 - val_loss: 0.6903 - val_accuracy: 0.7632 - 3s/epoch - 121ms/step\n",
            "Epoch 4/100\n",
            "25/25 - 2s - loss: 0.6588 - accuracy: 0.8804 - val_loss: 0.5440 - val_accuracy: 0.9299 - 2s/epoch - 97ms/step\n",
            "Epoch 5/100\n",
            "\n",
            "Akurasi telah mencapai > 80%\n",
            "25/25 - 2s - loss: 0.2688 - accuracy: 0.9559 - val_loss: 0.1753 - val_accuracy: 0.9459 - 2s/epoch - 99ms/step\n"
          ]
        }
      ]
    },
    {
      "cell_type": "code",
      "source": [
        "model.evaluate(pad_test, ytest)"
      ],
      "metadata": {
        "id": "ZKfjQaW6CA6k",
        "colab": {
          "base_uri": "https://localhost:8080/"
        },
        "outputId": "3807fd5e-dafd-46ce-9fa3-e282a6e6c6b2"
      },
      "execution_count": 13,
      "outputs": [
        {
          "output_type": "stream",
          "name": "stdout",
          "text": [
            "199/199 [==============================] - 1s 5ms/step - loss: 0.1753 - accuracy: 0.9459\n"
          ]
        },
        {
          "output_type": "execute_result",
          "data": {
            "text/plain": [
              "[0.17534275352954865, 0.94593745470047]"
            ]
          },
          "metadata": {},
          "execution_count": 13
        }
      ]
    },
    {
      "cell_type": "code",
      "source": [
        "plt.plot(hist.history['loss'], color='red')\n",
        "plt.plot(hist.history['accuracy'], color='blue')\n",
        "plt.xlabel('Epoch')\n",
        "plt.ylabel('loss')\n",
        "plt.legend([\"Loss\", 'Accuracy'])\n",
        "plt.show"
      ],
      "metadata": {
        "colab": {
          "base_uri": "https://localhost:8080/",
          "height": 296
        },
        "id": "wCdLAbEc7VWQ",
        "outputId": "0e91b189-3d41-4adc-961b-a49fbe3fe2fd"
      },
      "execution_count": 14,
      "outputs": [
        {
          "output_type": "execute_result",
          "data": {
            "text/plain": [
              "<function matplotlib.pyplot.show(close=None, block=None)>"
            ]
          },
          "metadata": {},
          "execution_count": 14
        },
        {
          "output_type": "display_data",
          "data": {
            "text/plain": [
              "<Figure size 432x288 with 1 Axes>"
            ],
            "image/png": "[encoded data removed]"
          },
          "metadata": {
            "needs_background": "light"
          }
        }
      ]
    }
  ]
}